{
 "cells": [
  {
   "cell_type": "code",
   "execution_count": 1,
   "id": "0d2fe8e3-2b6a-476d-9b25-9322b97dd18a",
   "metadata": {},
   "outputs": [],
   "source": [
    "import pynbody as pyn\n",
    "import matplotlib.pyplot as plt\n",
    "import matplotlib.animation as ani\n",
    "import numpy as np"
   ]
  },
  {
   "cell_type": "code",
   "execution_count": 2,
   "id": "a9361f12-2aa8-45ef-a238-6c88587d267c",
   "metadata": {},
   "outputs": [],
   "source": [
    "sim = pyn.load('simFiles/run708main.01000')"
   ]
  },
  {
   "cell_type": "code",
   "execution_count": 3,
   "id": "7165d1b9-3c40-4be0-8fb1-b8540e2a12f1",
   "metadata": {},
   "outputs": [],
   "source": [
    "sim.physical_units()\n",
    "sim.s['age'].convert_units('Gyr')"
   ]
  },
  {
   "cell_type": "code",
   "execution_count": 4,
   "id": "3ea3b3ea-b5a8-4007-9429-55ec8b2c6610",
   "metadata": {},
   "outputs": [
    {
     "data": {
      "text/plain": [
       "<pynbody.transformation.GenericRotation at 0x23beee5a450>"
      ]
     },
     "execution_count": 4,
     "metadata": {},
     "output_type": "execute_result"
    }
   ],
   "source": [
    "pyn.analysis.angmom.faceon(sim)"
   ]
  },
  {
   "cell_type": "code",
   "execution_count": 18,
   "id": "2c2c811a-788e-458d-b514-6682caa373dc",
   "metadata": {},
   "outputs": [],
   "source": [
    "plot = pyn.plot.sph.image(sim.g, width=16, qty='rho', cmap=plt.cm.turbo)\n",
    "plt.close()"
   ]
  },
  {
   "cell_type": "code",
   "execution_count": null,
   "id": "223cd497-cb09-4e28-88c5-2d451730df2d",
   "metadata": {},
   "outputs": [],
   "source": []
  }
 ],
 "metadata": {
  "kernelspec": {
   "display_name": "Python 3 (ipykernel)",
   "language": "python",
   "name": "python3"
  },
  "language_info": {
   "codemirror_mode": {
    "name": "ipython",
    "version": 3
   },
   "file_extension": ".py",
   "mimetype": "text/x-python",
   "name": "python",
   "nbconvert_exporter": "python",
   "pygments_lexer": "ipython3",
   "version": "3.11.6"
  }
 },
 "nbformat": 4,
 "nbformat_minor": 5
}

{
 "cells": [
  {
   "cell_type": "markdown",
   "id": "a8c79a0f-b6ad-4966-a119-7552046621fe",
   "metadata": {},
   "source": [
    "### Merged into one function...(To serve as extra testing idk)"
   ]
  },
  {
   "cell_type": "code",
   "execution_count": 1,
   "id": "48f99624-0a16-4cbe-aff5-1749311921be",
   "metadata": {},
   "outputs": [],
   "source": [
    "# Imports\n",
    "import pynbody\n",
    "import matplotlib.pyplot as plt\n",
    "import numpy as np\n",
    "import imageio.v3 as iio"
   ]
  },
  {
   "cell_type": "code",
   "execution_count": 4,
   "id": "bfeb448e-6d6c-45fd-9f16-7d00894057e3",
   "metadata": {},
   "outputs": [
    {
     "data": {
      "text/plain": [
       "<pynbody.transformation.GenericRotation at 0x1e6b60f4a10>"
      ]
     },
     "execution_count": 4,
     "metadata": {},
     "output_type": "execute_result"
    }
   ],
   "source": [
    "# Simulation data\n",
    "simulation = pynbody.load('simFiles/run708main.01000')\n",
    "pynbody.analysis.angmom.faceon(simulation)"
   ]
  },
  {
   "cell_type": "code",
   "execution_count": 5,
   "id": "5f7b6701-b2a7-443e-b238-fd9f8968507c",
   "metadata": {},
   "outputs": [],
   "source": [
    "# Function to create images based on certain properties (e.g.; star age) then create the 'gif'\n",
    "def create_gif(sim, num_frames=20, fps=5):\n",
    "    for i in range(num_frames):\n",
    "        \n",
    "        # Initializing list\n",
    "        frames = []\n",
    "        \n",
    "        # Example: filter based on star age\n",
    "        # Add in...\n",
    "        \n",
    "        # Can also add subpart to visualize different properties (e.g., color filters)\n",
    "        # Tangential to simply being a diff property in of itself...\n",
    "        \n",
    "        pynbody.plot.stars.render(stars, width='20 kpc')\n",
    "\n",
    "        # Storing the image\n",
    "        filename = f'frame_{i}.png'\n",
    "        plt.savefig(filename, dpi=150)\n",
    "        plt.close()\n",
    "        frames.append(iio.imread(filename))\n",
    "        \n",
    "    iio.imwrite('test.gif', frames)"
   ]
  },
  {
   "cell_type": "code",
   "execution_count": 7,
   "id": "ee44050b-2d04-4b11-baf6-94bb7e36c0a7",
   "metadata": {},
   "outputs": [],
   "source": [
    "## Creating the images and then the GIF from the images...\n",
    "# create_gif(simulation)"
   ]
  }
 ],
 "metadata": {
  "kernelspec": {
   "display_name": "Python 3 (ipykernel)",
   "language": "python",
   "name": "python3"
  },
  "language_info": {
   "codemirror_mode": {
    "name": "ipython",
    "version": 3
   },
   "file_extension": ".py",
   "mimetype": "text/x-python",
   "name": "python",
   "nbconvert_exporter": "python",
   "pygments_lexer": "ipython3",
   "version": "3.11.6"
  }
 },
 "nbformat": 4,
 "nbformat_minor": 5
}

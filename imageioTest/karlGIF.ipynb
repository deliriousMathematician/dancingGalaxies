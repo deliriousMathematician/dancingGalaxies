{
 "cells": [
  {
   "cell_type": "markdown",
   "id": "484aba5c-a76e-4a14-840b-8a7145fdc2c5",
   "metadata": {},
   "source": [
    "Not optimized, merely to test imageio functionality (I added it as text cause to store the images idk if you can run it over github so you may need to copy it into your local ide)\n",
    "\n",
    " Creating the images/frames is separated from creating the gif.\n",
    " To be modified to become more generally applicable..."
   ]
  },
  {
   "cell_type": "code",
   "execution_count": 1,
   "id": "5c6ea392-6530-4602-abe9-78bf15646549",
   "metadata": {},
   "outputs": [],
   "source": [
    "# Imports\n",
    "import pynbody\n",
    "import matplotlib.pyplot as plt\n",
    "import numpy as np\n",
    "import imageio.v3 as iio"
   ]
  },
  {
   "cell_type": "code",
   "execution_count": 2,
   "id": "8eebd8ae-a387-4cd2-adf5-5703b00c16e7",
   "metadata": {},
   "outputs": [
    {
     "data": {
      "text/plain": [
       "<pynbody.transformation.GenericRotation at 0x1738b2e9090>"
      ]
     },
     "execution_count": 2,
     "metadata": {},
     "output_type": "execute_result"
    }
   ],
   "source": [
    "# Simulation data\n",
    "simulation = pynbody.load('simFiles/run708main.01000')\n",
    "pynbody.analysis.angmom.faceon(simulation)"
   ]
  },
  {
   "cell_type": "code",
   "execution_count": 3,
   "id": "b5efb05e-7912-4dce-80a0-ea92598fb001",
   "metadata": {},
   "outputs": [],
   "source": [
    "# Function to seperate stars by age.\n",
    "def star_ages (sim):\n",
    "    \n",
    "    stars = sim.stars\n",
    "    current_time = sim.properties['time'].in_units('Gyr')\n",
    "    star_ages = current_time - stars['tform'].in_units('Gyr')\n",
    "    y_stars = stars[star_ages < 1]\n",
    "    i_stars = stars[(star_ages > 1) & (star_ages < 5)]\n",
    "    o_stars = stars[star_ages > 5]\n",
    "    \n",
    "    return y_stars, i_stars, o_stars"
   ]
  },
  {
   "cell_type": "code",
   "execution_count": 4,
   "id": "79d814a7-5251-4e10-88df-52cbb17d2eba",
   "metadata": {},
   "outputs": [],
   "source": [
    "# Function to save images based on certain properties (e.g., star age)...set to test a limited scope...to be adjusted to take in a arbitrary amount of frames\n",
    "def save_images(sim):\n",
    "    \n",
    "    young_stars, intermediate_stars, old_stars = star_ages (sim)\n",
    "    \n",
    "    pynbody.plot.stars.render(young_stars, width='10 kpc')\n",
    "    plt.savefig('frame_1.png', dpi=150)\n",
    "    plt.close()\n",
    "    \n",
    "    pynbody.plot.stars.render(intermediate_stars, width='10 kpc')\n",
    "    plt.savefig('frame_2.png', dpi=150)\n",
    "    plt.close()\n",
    "\n",
    "    pynbody.plot.stars.render(old_stars, width='10 kpc')\n",
    "    plt.savefig('frame_3.png', dpi=150)\n",
    "    plt.close()"
   ]
  },
  {
   "cell_type": "code",
   "execution_count": 5,
   "id": "0f621ade-7cc7-4b0e-ad8d-d6e4654cb1d7",
   "metadata": {},
   "outputs": [],
   "source": [
    "# Creating the GIF\n",
    "def create_gif():\n",
    "    \n",
    "    frames = np.stack([iio.imread(f\"frame_{i}.png\") for i in range(1, 4)], axis=0)\n",
    "    iio.imwrite('test.gif', frames)"
   ]
  },
  {
   "cell_type": "code",
   "execution_count": 6,
   "id": "98a29948-3c5b-4e7d-8e71-8541524f7c4c",
   "metadata": {},
   "outputs": [
    {
     "name": "stderr",
     "output_type": "stream",
     "text": [
      "C:\\Users\\Michael\\AppData\\Local\\Programs\\Python\\Python311\\Lib\\site-packages\\pynbody\\plot\\stars.py:72: RuntimeWarning: divide by zero encountered in log10\n",
      "  return -2.5*np.log10(image*pc2_to_sqarcsec)\n"
     ]
    }
   ],
   "source": [
    "# Generating the images/frames\n",
    "save_images(simulation)"
   ]
  },
  {
   "cell_type": "code",
   "execution_count": 7,
   "id": "64331eb4-ae15-45d4-9bd6-0f02779249c0",
   "metadata": {},
   "outputs": [],
   "source": [
    "# Creating the GIF from them\n",
    "create_gif()"
   ]
  }
 ],
 "metadata": {
  "kernelspec": {
   "display_name": "Python 3 (ipykernel)",
   "language": "python",
   "name": "python3"
  },
  "language_info": {
   "codemirror_mode": {
    "name": "ipython",
    "version": 3
   },
   "file_extension": ".py",
   "mimetype": "text/x-python",
   "name": "python",
   "nbconvert_exporter": "python",
   "pygments_lexer": "ipython3",
   "version": "3.11.6"
  }
 },
 "nbformat": 4,
 "nbformat_minor": 5
}
